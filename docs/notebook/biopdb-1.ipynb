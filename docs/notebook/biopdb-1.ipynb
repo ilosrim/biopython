{
 "cells": [
  {
   "cell_type": "code",
   "execution_count": 8,
   "metadata": {},
   "outputs": [
    {
     "name": "stdout",
     "output_type": "stream",
     "text": [
      "Collecting biopython\n",
      "  Downloading biopython-1.80-cp39-cp39-win_amd64.whl (2.7 MB)\n",
      "     ---------------------------------------- 2.7/2.7 MB 52.7 kB/s eta 0:00:00\n",
      "Requirement already satisfied: numpy in c:\\users\\mirjr\\scoop\\apps\\anaconda3\\2022.10\\lib\\site-packages (from biopython) (1.21.5)\n",
      "Installing collected packages: biopython\n",
      "Successfully installed biopython-1.80\n",
      "Note: you may need to restart the kernel to use updated packages.\n"
     ]
    }
   ],
   "source": [
    "pip install biopython"
   ]
  },
  {
   "cell_type": "code",
   "execution_count": 10,
   "metadata": {
    "scrolled": true
   },
   "outputs": [
    {
     "name": "stdout",
     "output_type": "stream",
     "text": [
      "Structure exists: 'D:\\Documents\\github\\code\\projects\\biopython\\docs\\notebook\\xp\\4xp1.cif' \n"
     ]
    },
    {
     "name": "stderr",
     "output_type": "stream",
     "text": [
      "WARNING: The default download format has changed from PDB to PDBx/mmCif\n"
     ]
    },
    {
     "data": {
      "text/plain": [
       "'D:\\\\Documents\\\\github\\\\code\\\\projects\\\\biopython\\\\docs\\\\notebook\\\\xp\\\\4xp1.cif'"
      ]
     },
     "execution_count": 10,
     "metadata": {},
     "output_type": "execute_result"
    }
   ],
   "source": [
    "from Bio.PDB import *\n",
    "\n",
    "pdbl = PDBList()\n",
    "pdbl.retrieve_pdb_file('4XP1')"
   ]
  },
  {
   "cell_type": "markdown",
   "metadata": {},
   "source": [
    "# Heading 1"
   ]
  },
  {
   "cell_type": "code",
   "execution_count": 12,
   "metadata": {},
   "outputs": [
    {
     "data": {
      "text/plain": [
       "['.ipynb_checkpoints', 'biopdb-1.ipynb', 'obsolete', 'xp']"
      ]
     },
     "execution_count": 12,
     "metadata": {},
     "output_type": "execute_result"
    }
   ],
   "source": [
    "import os\n",
    "os.listdir()"
   ]
  },
  {
   "cell_type": "code",
   "execution_count": 15,
   "metadata": {},
   "outputs": [
    {
     "data": {
      "text/plain": [
       "['4xp1.cif']"
      ]
     },
     "execution_count": 15,
     "metadata": {},
     "output_type": "execute_result"
    }
   ],
   "source": [
    "os.listdir('xp')"
   ]
  },
  {
   "cell_type": "markdown",
   "metadata": {},
   "source": [
    "# Parsing Structure File"
   ]
  },
  {
   "cell_type": "code",
   "execution_count": 18,
   "metadata": {},
   "outputs": [],
   "source": [
    "parser = MMCIFParser()"
   ]
  },
  {
   "cell_type": "code",
   "execution_count": 20,
   "metadata": {
    "scrolled": true
   },
   "outputs": [
    {
     "name": "stderr",
     "output_type": "stream",
     "text": [
      "C:\\Users\\mirjr\\scoop\\apps\\anaconda3\\current\\lib\\site-packages\\Bio\\PDB\\StructureBuilder.py:89: PDBConstructionWarning: WARNING: Chain A is discontinuous at line 7523.\n",
      "  warnings.warn(\n",
      "C:\\Users\\mirjr\\scoop\\apps\\anaconda3\\current\\lib\\site-packages\\Bio\\PDB\\StructureBuilder.py:89: PDBConstructionWarning: WARNING: Chain L is discontinuous at line 7658.\n",
      "  warnings.warn(\n",
      "C:\\Users\\mirjr\\scoop\\apps\\anaconda3\\current\\lib\\site-packages\\Bio\\PDB\\StructureBuilder.py:89: PDBConstructionWarning: WARNING: Chain A is discontinuous at line 7659.\n",
      "  warnings.warn(\n",
      "C:\\Users\\mirjr\\scoop\\apps\\anaconda3\\current\\lib\\site-packages\\Bio\\PDB\\StructureBuilder.py:89: PDBConstructionWarning: WARNING: Chain L is discontinuous at line 7674.\n",
      "  warnings.warn(\n",
      "C:\\Users\\mirjr\\scoop\\apps\\anaconda3\\current\\lib\\site-packages\\Bio\\PDB\\StructureBuilder.py:89: PDBConstructionWarning: WARNING: Chain H is discontinuous at line 7677.\n",
      "  warnings.warn(\n"
     ]
    }
   ],
   "source": [
    "structure = parser.get_structure('$4XP1', 'xp/4xp1.cif')"
   ]
  },
  {
   "cell_type": "code",
   "execution_count": 21,
   "metadata": {},
   "outputs": [
    {
     "name": "stdout",
     "output_type": "stream",
     "text": [
      "add, atom_to_internal_coordinates, center_of_mass, child_dict, child_list, copy, detach_child, detach_parent, full_id, get_atoms, get_chains, get_full_id, get_id, get_iterator, get_level, get_list, get_models, get_parent, get_residues, has_id, header, id, insert, internal_to_atom_coordinates, level, parent, set_parent, transform, xtra\n"
     ]
    }
   ],
   "source": [
    "def cleandir(obj):\n",
    "    print(\", \".join([a for a in dir(obj) if not a.startswith(\"_\")]))\n",
    "cleandir(structure)"
   ]
  },
  {
   "cell_type": "code",
   "execution_count": 22,
   "metadata": {},
   "outputs": [
    {
     "name": "stdout",
     "output_type": "stream",
     "text": [
      "\n",
      "Note: you may need to restart the kernel to use updated packages.\n"
     ]
    }
   ],
   "source": [
    "conda config --add channels conda-forge"
   ]
  },
  {
   "cell_type": "code",
   "execution_count": 23,
   "metadata": {},
   "outputs": [
    {
     "name": "stdout",
     "output_type": "stream",
     "text": [
      "Collecting package metadata (current_repodata.json): ...working... done\n",
      "Note: you may need to restart the kernel to use updated packages.\n",
      "\n",
      "Solving environment: ...working... done\n",
      "\n",
      "## Package Plan ##\n",
      "\n",
      "  environment location: C:\\Users\\mirjr\\scoop\\apps\\anaconda3\\current\n",
      "\n",
      "  added / updated specs:\n",
      "    - nglview\n",
      "\n",
      "\n",
      "The following packages will be downloaded:\n",
      "\n",
      "    package                    |            build\n",
      "    ---------------------------|-----------------\n",
      "    conda-22.11.1              |   py39hcbf5309_1         908 KB  conda-forge\n",
      "    nglview-1.1.7              |             py_0         4.5 MB  bioconda\n",
      "    python_abi-3.9             |           2_cp39           4 KB  conda-forge\n",
      "    ruamel.yaml-0.17.21        |   py39hb82d6ee_1         169 KB  conda-forge\n",
      "    ruamel.yaml.clib-0.2.6     |   py39h2bbff1b_1         101 KB\n",
      "    ------------------------------------------------------------\n",
      "                                           Total:         5.7 MB\n",
      "\n",
      "The following NEW packages will be INSTALLED:\n",
      "\n",
      "  nglview            bioconda/noarch::nglview-1.1.7-py_0 None\n",
      "  python_abi         conda-forge/win-64::python_abi-3.9-2_cp39 None\n",
      "  ruamel.yaml        conda-forge/win-64::ruamel.yaml-0.17.21-py39hb82d6ee_1 None\n",
      "  ruamel.yaml.clib   pkgs/main/win-64::ruamel.yaml.clib-0.2.6-py39h2bbff1b_1 None\n",
      "\n",
      "The following packages will be UPDATED:\n",
      "\n",
      "  conda              pkgs/main::conda-22.9.0-py39haa95532_0 --> conda-forge::conda-22.11.1-py39hcbf5309_1 None\n",
      "\n",
      "\n",
      "\n",
      "Downloading and Extracting Packages\n",
      "\n",
      "ruamel.yaml-0.17.21  | 169 KB    |            |   0% \n",
      "ruamel.yaml-0.17.21  | 169 KB    | 9          |   9% \n",
      "ruamel.yaml-0.17.21  | 169 KB    | ##8        |  28% \n",
      "ruamel.yaml-0.17.21  | 169 KB    | #####6     |  57% \n",
      "ruamel.yaml-0.17.21  | 169 KB    | #######5   |  76% \n",
      "ruamel.yaml-0.17.21  | 169 KB    | ########## | 100% \n",
      "ruamel.yaml-0.17.21  | 169 KB    | ########## | 100% \n",
      "\n",
      "nglview-1.1.7        | 4.5 MB    |            |   0% \n",
      "nglview-1.1.7        | 4.5 MB    |            |   0% \n",
      "nglview-1.1.7        | 4.5 MB    | 1          |   1% \n",
      "nglview-1.1.7        | 4.5 MB    | 1          |   2% \n",
      "nglview-1.1.7        | 4.5 MB    | 2          |   2% \n",
      "nglview-1.1.7        | 4.5 MB    | 3          |   3% \n",
      "nglview-1.1.7        | 4.5 MB    | 3          |   4% \n",
      "nglview-1.1.7        | 4.5 MB    | 4          |   4% \n",
      "nglview-1.1.7        | 4.5 MB    | 5          |   5% \n",
      "nglview-1.1.7        | 4.5 MB    | 5          |   6% \n",
      "nglview-1.1.7        | 4.5 MB    | 6          |   7% \n",
      "nglview-1.1.7        | 4.5 MB    | 7          |   7% \n",
      "nglview-1.1.7        | 4.5 MB    | 7          |   8% \n",
      "nglview-1.1.7        | 4.5 MB    | 8          |   8% \n",
      "nglview-1.1.7        | 4.5 MB    | 8          |   9% \n",
      "nglview-1.1.7        | 4.5 MB    | 8          |   9% \n",
      "nglview-1.1.7        | 4.5 MB    | 9          |   9% \n",
      "nglview-1.1.7        | 4.5 MB    | 9          |  10% \n",
      "nglview-1.1.7        | 4.5 MB    | 9          |  10% \n",
      "nglview-1.1.7        | 4.5 MB    | #          |  10% \n",
      "nglview-1.1.7        | 4.5 MB    | #          |  11% \n",
      "nglview-1.1.7        | 4.5 MB    | #1         |  11% \n",
      "nglview-1.1.7        | 4.5 MB    | #1         |  12% \n",
      "nglview-1.1.7        | 4.5 MB    | #2         |  12% \n",
      "nglview-1.1.7        | 4.5 MB    | #2         |  12% \n",
      "nglview-1.1.7        | 4.5 MB    | #2         |  13% \n",
      "nglview-1.1.7        | 4.5 MB    | #3         |  13% \n",
      "nglview-1.1.7        | 4.5 MB    | #3         |  14% \n",
      "nglview-1.1.7        | 4.5 MB    | #4         |  14% \n",
      "nglview-1.1.7        | 4.5 MB    | #4         |  14% \n",
      "nglview-1.1.7        | 4.5 MB    | #4         |  15% \n",
      "nglview-1.1.7        | 4.5 MB    | #5         |  15% \n",
      "nglview-1.1.7        | 4.5 MB    | #5         |  15% \n",
      "nglview-1.1.7        | 4.5 MB    | #5         |  16% \n",
      "nglview-1.1.7        | 4.5 MB    | #6         |  16% \n",
      "nglview-1.1.7        | 4.5 MB    | #6         |  17% \n",
      "nglview-1.1.7        | 4.5 MB    | #6         |  17% \n",
      "nglview-1.1.7        | 4.5 MB    | #7         |  17% \n",
      "nglview-1.1.7        | 4.5 MB    | #7         |  18% \n",
      "nglview-1.1.7        | 4.5 MB    | #7         |  18% \n",
      "nglview-1.1.7        | 4.5 MB    | #8         |  18% \n",
      "nglview-1.1.7        | 4.5 MB    | #8         |  19% \n",
      "nglview-1.1.7        | 4.5 MB    | #9         |  19% \n",
      "nglview-1.1.7        | 4.5 MB    | #9         |  20% \n",
      "nglview-1.1.7        | 4.5 MB    | #9         |  20% \n",
      "nglview-1.1.7        | 4.5 MB    | ##         |  20% \n",
      "nglview-1.1.7        | 4.5 MB    | ##         |  21% \n",
      "nglview-1.1.7        | 4.5 MB    | ##         |  21% \n",
      "nglview-1.1.7        | 4.5 MB    | ##1        |  21% \n",
      "nglview-1.1.7        | 4.5 MB    | ##1        |  22% \n",
      "nglview-1.1.7        | 4.5 MB    | ##2        |  22% \n",
      "nglview-1.1.7        | 4.5 MB    | ##2        |  23% \n",
      "nglview-1.1.7        | 4.5 MB    | ##3        |  23% \n",
      "nglview-1.1.7        | 4.5 MB    | ##3        |  23% \n",
      "nglview-1.1.7        | 4.5 MB    | ##3        |  24% \n",
      "nglview-1.1.7        | 4.5 MB    | ##4        |  24% \n",
      "nglview-1.1.7        | 4.5 MB    | ##4        |  25% \n",
      "nglview-1.1.7        | 4.5 MB    | ##5        |  25% \n",
      "nglview-1.1.7        | 4.5 MB    | ##5        |  26% \n",
      "nglview-1.1.7        | 4.5 MB    | ##6        |  27% \n",
      "nglview-1.1.7        | 4.5 MB    | ##7        |  28% \n",
      "nglview-1.1.7        | 4.5 MB    | ##8        |  28% \n",
      "nglview-1.1.7        | 4.5 MB    | ##8        |  29% \n",
      "nglview-1.1.7        | 4.5 MB    | ##9        |  30% \n",
      "nglview-1.1.7        | 4.5 MB    | ###        |  30% \n",
      "nglview-1.1.7        | 4.5 MB    | ###        |  31% \n",
      "nglview-1.1.7        | 4.5 MB    | ###1       |  32% \n",
      "nglview-1.1.7        | 4.5 MB    | ###2       |  32% \n",
      "nglview-1.1.7        | 4.5 MB    | ###3       |  33% \n",
      "nglview-1.1.7        | 4.5 MB    | ###3       |  34% \n",
      "nglview-1.1.7        | 4.5 MB    | ###4       |  34% \n",
      "nglview-1.1.7        | 4.5 MB    | ###5       |  35% \n",
      "nglview-1.1.7        | 4.5 MB    | ###5       |  36% \n",
      "nglview-1.1.7        | 4.5 MB    | ###6       |  36% \n",
      "nglview-1.1.7        | 4.5 MB    | ###6       |  37% \n",
      "nglview-1.1.7        | 4.5 MB    | ###7       |  37% \n",
      "nglview-1.1.7        | 4.5 MB    | ###7       |  38% \n",
      "nglview-1.1.7        | 4.5 MB    | ###8       |  38% \n",
      "nglview-1.1.7        | 4.5 MB    | ###8       |  39% \n",
      "nglview-1.1.7        | 4.5 MB    | ###9       |  39% \n",
      "nglview-1.1.7        | 4.5 MB    | ###9       |  40% \n",
      "nglview-1.1.7        | 4.5 MB    | ####       |  40% \n",
      "nglview-1.1.7        | 4.5 MB    | ####       |  41% \n",
      "nglview-1.1.7        | 4.5 MB    | ####1      |  41% \n",
      "nglview-1.1.7        | 4.5 MB    | ####1      |  42% \n",
      "nglview-1.1.7        | 4.5 MB    | ####2      |  42% \n",
      "nglview-1.1.7        | 4.5 MB    | ####2      |  43% \n",
      "nglview-1.1.7        | 4.5 MB    | ####3      |  43% \n",
      "nglview-1.1.7        | 4.5 MB    | ####3      |  44% \n",
      "nglview-1.1.7        | 4.5 MB    | ####4      |  44% \n",
      "nglview-1.1.7        | 4.5 MB    | ####4      |  44% \n",
      "nglview-1.1.7        | 4.5 MB    | ####4      |  45% \n",
      "nglview-1.1.7        | 4.5 MB    | ####5      |  45% \n",
      "nglview-1.1.7        | 4.5 MB    | ####5      |  45% \n",
      "nglview-1.1.7        | 4.5 MB    | ####6      |  46% \n",
      "nglview-1.1.7        | 4.5 MB    | ####6      |  47% \n",
      "nglview-1.1.7        | 4.5 MB    | ####7      |  48% \n",
      "nglview-1.1.7        | 4.5 MB    | ####7      |  48% \n",
      "nglview-1.1.7        | 4.5 MB    | ####8      |  49% \n",
      "nglview-1.1.7        | 4.5 MB    | ####9      |  49% \n",
      "nglview-1.1.7        | 4.5 MB    | ####9      |  50% \n",
      "nglview-1.1.7        | 4.5 MB    | #####      |  51% \n",
      "nglview-1.1.7        | 4.5 MB    | #####1     |  51% \n",
      "nglview-1.1.7        | 4.5 MB    | #####1     |  52% \n",
      "nglview-1.1.7        | 4.5 MB    | #####2     |  53% \n",
      "nglview-1.1.7        | 4.5 MB    | #####3     |  53% \n",
      "nglview-1.1.7        | 4.5 MB    | #####5     |  55% \n",
      "nglview-1.1.7        | 4.5 MB    | #####5     |  56% \n",
      "nglview-1.1.7        | 4.5 MB    | #####6     |  56% \n",
      "nglview-1.1.7        | 4.5 MB    | #####7     |  57% \n",
      "nglview-1.1.7        | 4.5 MB    | #####8     |  59% \n",
      "nglview-1.1.7        | 4.5 MB    | #####9     |  60% \n",
      "nglview-1.1.7        | 4.5 MB    | ######     |  60% \n",
      "nglview-1.1.7        | 4.5 MB    | ######1    |  61% \n",
      "nglview-1.1.7        | 4.5 MB    | ######1    |  62% \n",
      "nglview-1.1.7        | 4.5 MB    | ######2    |  63% \n",
      "nglview-1.1.7        | 4.5 MB    | ######3    |  63% \n",
      "nglview-1.1.7        | 4.5 MB    | ######4    |  64% \n",
      "nglview-1.1.7        | 4.5 MB    | ######4    |  65% \n",
      "nglview-1.1.7        | 4.5 MB    | ######5    |  65% \n",
      "nglview-1.1.7        | 4.5 MB    | ######6    |  66% \n",
      "nglview-1.1.7        | 4.5 MB    | ######6    |  67% \n",
      "nglview-1.1.7        | 4.5 MB    | ######7    |  67% \n",
      "nglview-1.1.7        | 4.5 MB    | ######8    |  68% \n",
      "nglview-1.1.7        | 4.5 MB    | ######8    |  69% \n",
      "nglview-1.1.7        | 4.5 MB    | ######9    |  70% \n",
      "nglview-1.1.7        | 4.5 MB    | #######    |  70% \n",
      "nglview-1.1.7        | 4.5 MB    | #######    |  71% \n",
      "nglview-1.1.7        | 4.5 MB    | #######1   |  72% \n",
      "nglview-1.1.7        | 4.5 MB    | #######2   |  72% \n",
      "nglview-1.1.7        | 4.5 MB    | #######2   |  73% \n",
      "nglview-1.1.7        | 4.5 MB    | #######3   |  74% \n",
      "nglview-1.1.7        | 4.5 MB    | #######4   |  74% \n",
      "nglview-1.1.7        | 4.5 MB    | #######5   |  75% \n",
      "nglview-1.1.7        | 4.5 MB    | #######5   |  76% \n",
      "nglview-1.1.7        | 4.5 MB    | #######6   |  76% \n",
      "nglview-1.1.7        | 4.5 MB    | #######7   |  77% \n",
      "nglview-1.1.7        | 4.5 MB    | #######7   |  77% \n",
      "nglview-1.1.7        | 4.5 MB    | #######7   |  78% \n",
      "nglview-1.1.7        | 4.5 MB    | #######8   |  78% \n",
      "nglview-1.1.7        | 4.5 MB    | #######8   |  78% \n",
      "nglview-1.1.7        | 4.5 MB    | #######8   |  79% \n",
      "nglview-1.1.7        | 4.5 MB    | #######9   |  79% \n",
      "nglview-1.1.7        | 4.5 MB    | #######9   |  80% \n",
      "nglview-1.1.7        | 4.5 MB    | #######9   |  80% \n",
      "nglview-1.1.7        | 4.5 MB    | ########   |  80% \n",
      "nglview-1.1.7        | 4.5 MB    | ########   |  81% \n",
      "nglview-1.1.7        | 4.5 MB    | ########   |  81% \n",
      "nglview-1.1.7        | 4.5 MB    | ########1  |  81% \n",
      "nglview-1.1.7        | 4.5 MB    | ########1  |  82% \n",
      "nglview-1.1.7        | 4.5 MB    | ########1  |  82% \n",
      "nglview-1.1.7        | 4.5 MB    | ########2  |  82% \n",
      "nglview-1.1.7        | 4.5 MB    | ########2  |  83% \n",
      "nglview-1.1.7        | 4.5 MB    | ########2  |  83% \n",
      "nglview-1.1.7        | 4.5 MB    | ########3  |  83% \n",
      "nglview-1.1.7        | 4.5 MB    | ########3  |  84% \n",
      "nglview-1.1.7        | 4.5 MB    | ########4  |  84% \n",
      "nglview-1.1.7        | 4.5 MB    | ########4  |  85% \n",
      "nglview-1.1.7        | 4.5 MB    | ########5  |  85% \n",
      "nglview-1.1.7        | 4.5 MB    | ########5  |  85% \n",
      "nglview-1.1.7        | 4.5 MB    | ########5  |  86% \n",
      "nglview-1.1.7        | 4.5 MB    | ########6  |  86% \n",
      "nglview-1.1.7        | 4.5 MB    | ########6  |  86% \n",
      "nglview-1.1.7        | 4.5 MB    | ########7  |  87% \n",
      "nglview-1.1.7        | 4.5 MB    | ########7  |  87% \n",
      "nglview-1.1.7        | 4.5 MB    | ########7  |  88% \n",
      "nglview-1.1.7        | 4.5 MB    | ########8  |  88% \n",
      "nglview-1.1.7        | 4.5 MB    | ########8  |  88% \n",
      "nglview-1.1.7        | 4.5 MB    | ########9  |  89% \n",
      "nglview-1.1.7        | 4.5 MB    | ########9  |  90% \n",
      "nglview-1.1.7        | 4.5 MB    | #########  |  91% \n",
      "nglview-1.1.7        | 4.5 MB    | #########  |  91% \n",
      "nglview-1.1.7        | 4.5 MB    | #########1 |  91% \n",
      "nglview-1.1.7        | 4.5 MB    | #########1 |  92% \n",
      "nglview-1.1.7        | 4.5 MB    | #########2 |  93% \n",
      "nglview-1.1.7        | 4.5 MB    | #########3 |  93% \n",
      "nglview-1.1.7        | 4.5 MB    | #########3 |  94% \n",
      "nglview-1.1.7        | 4.5 MB    | #########3 |  94% \n",
      "nglview-1.1.7        | 4.5 MB    | #########4 |  95% \n",
      "nglview-1.1.7        | 4.5 MB    | #########5 |  95% \n",
      "nglview-1.1.7        | 4.5 MB    | #########6 |  96% \n",
      "nglview-1.1.7        | 4.5 MB    | #########6 |  97% \n",
      "nglview-1.1.7        | 4.5 MB    | #########7 |  97% \n",
      "nglview-1.1.7        | 4.5 MB    | #########7 |  98% \n",
      "nglview-1.1.7        | 4.5 MB    | #########8 |  98% \n",
      "nglview-1.1.7        | 4.5 MB    | #########8 |  98% \n",
      "nglview-1.1.7        | 4.5 MB    | #########8 |  99% \n",
      "nglview-1.1.7        | 4.5 MB    | #########9 |  99% \n",
      "nglview-1.1.7        | 4.5 MB    | #########9 |  99% \n",
      "nglview-1.1.7        | 4.5 MB    | #########9 | 100% \n",
      "nglview-1.1.7        | 4.5 MB    | ########## | 100% \n",
      "\n",
      "conda-22.11.1        | 908 KB    |            |   0% \n",
      "conda-22.11.1        | 908 KB    | 1          |   2% \n",
      "conda-22.11.1        | 908 KB    | 3          |   4% \n",
      "conda-22.11.1        | 908 KB    | 5          |   5% \n",
      "conda-22.11.1        | 908 KB    | 7          |   7% \n",
      "conda-22.11.1        | 908 KB    | 8          |   9% \n",
      "conda-22.11.1        | 908 KB    | #          |  11% \n",
      "conda-22.11.1        | 908 KB    | #2         |  12% \n",
      "conda-22.11.1        | 908 KB    | #4         |  14% \n",
      "conda-22.11.1        | 908 KB    | #5         |  16% \n",
      "conda-22.11.1        | 908 KB    | #7         |  18% \n",
      "conda-22.11.1        | 908 KB    | #9         |  19% \n",
      "conda-22.11.1        | 908 KB    | ##1        |  21% \n",
      "conda-22.11.1        | 908 KB    | ##2        |  23% \n",
      "conda-22.11.1        | 908 KB    | ##4        |  25% \n",
      "conda-22.11.1        | 908 KB    | ##6        |  26% \n",
      "conda-22.11.1        | 908 KB    | ##8        |  28% \n",
      "conda-22.11.1        | 908 KB    | ##9        |  30% \n",
      "conda-22.11.1        | 908 KB    | ###1       |  32% \n",
      "conda-22.11.1        | 908 KB    | ###3       |  33% \n",
      "conda-22.11.1        | 908 KB    | ###5       |  35% \n",
      "conda-22.11.1        | 908 KB    | ###7       |  37% \n",
      "conda-22.11.1        | 908 KB    | ###8       |  39% \n",
      "conda-22.11.1        | 908 KB    | ####       |  41% \n",
      "conda-22.11.1        | 908 KB    | ####2      |  42% \n",
      "conda-22.11.1        | 908 KB    | ####4      |  44% \n",
      "conda-22.11.1        | 908 KB    | ####5      |  46% \n",
      "conda-22.11.1        | 908 KB    | ####7      |  48% \n",
      "conda-22.11.1        | 908 KB    | ####9      |  49% \n",
      "conda-22.11.1        | 908 KB    | #####1     |  51% \n",
      "conda-22.11.1        | 908 KB    | #####2     |  53% \n",
      "conda-22.11.1        | 908 KB    | #####4     |  55% \n",
      "conda-22.11.1        | 908 KB    | #####6     |  56% \n",
      "conda-22.11.1        | 908 KB    | #####8     |  58% \n",
      "conda-22.11.1        | 908 KB    | #####9     |  60% \n",
      "conda-22.11.1        | 908 KB    | ######1    |  62% \n",
      "conda-22.11.1        | 908 KB    | ######3    |  63% \n",
      "conda-22.11.1        | 908 KB    | ######5    |  65% \n",
      "conda-22.11.1        | 908 KB    | ######8    |  69% \n",
      "conda-22.11.1        | 908 KB    | #######    |  71% \n",
      "conda-22.11.1        | 908 KB    | #######2   |  72% \n",
      "conda-22.11.1        | 908 KB    | #######4   |  74% \n",
      "conda-22.11.1        | 908 KB    | #######5   |  76% \n",
      "conda-22.11.1        | 908 KB    | #######7   |  78% \n",
      "conda-22.11.1        | 908 KB    | #######9   |  79% \n",
      "conda-22.11.1        | 908 KB    | ########1  |  81% \n",
      "conda-22.11.1        | 908 KB    | ########2  |  83% \n",
      "conda-22.11.1        | 908 KB    | ########4  |  85% \n",
      "conda-22.11.1        | 908 KB    | ########6  |  86% \n",
      "conda-22.11.1        | 908 KB    | ########8  |  88% \n",
      "conda-22.11.1        | 908 KB    | ########9  |  90% \n",
      "conda-22.11.1        | 908 KB    | #########1 |  92% \n",
      "conda-22.11.1        | 908 KB    | #########3 |  93% \n",
      "conda-22.11.1        | 908 KB    | #########5 |  95% \n",
      "conda-22.11.1        | 908 KB    | #########6 |  97% \n",
      "conda-22.11.1        | 908 KB    | ########## | 100% \n",
      "conda-22.11.1        | 908 KB    | ########## | 100% \n",
      "\n",
      "python_abi-3.9       | 4 KB      |            |   0% \n",
      "python_abi-3.9       | 4 KB      | ########## | 100% \n",
      "python_abi-3.9       | 4 KB      | ########## | 100% \n",
      "\n",
      "ruamel.yaml.clib-0.2 | 101 KB    |            |   0% \n",
      "ruamel.yaml.clib-0.2 | 101 KB    | #5         |  16% \n",
      "ruamel.yaml.clib-0.2 | 101 KB    | ####7      |  48% \n",
      "ruamel.yaml.clib-0.2 | 101 KB    | #######9   |  79% \n",
      "ruamel.yaml.clib-0.2 | 101 KB    | ########## | 100% \n",
      "ruamel.yaml.clib-0.2 | 101 KB    | ########## | 100% \n",
      "Preparing transaction: ...working... done\n",
      "Verifying transaction: ...working... done\n",
      "Executing transaction: ...working... done\n",
      "Retrieving notices: ...working... done\n"
     ]
    },
    {
     "name": "stderr",
     "output_type": "stream",
     "text": [
      "\n",
      "\n",
      "==> WARNING: A newer version of conda exists. <==\n",
      "  current version: 22.9.0\n",
      "  latest version: 22.11.1\n",
      "\n",
      "Please update conda by running\n",
      "\n",
      "    $ conda update -n base -c defaults conda\n",
      "\n",
      "\n"
     ]
    }
   ],
   "source": [
    "conda install nglview -c bioconda"
   ]
  },
  {
   "cell_type": "code",
   "execution_count": 24,
   "metadata": {},
   "outputs": [
    {
     "ename": "SyntaxError",
     "evalue": "invalid syntax (2851639463.py, line 1)",
     "output_type": "error",
     "traceback": [
      "\u001b[1;36m  File \u001b[1;32m\"C:\\Users\\mirjr\\AppData\\Local\\Temp\\ipykernel_6732\\2851639463.py\"\u001b[1;36m, line \u001b[1;32m1\u001b[0m\n\u001b[1;33m    jupyter-nbextension enable nglview --py --sys-prefix\u001b[0m\n\u001b[1;37m                        ^\u001b[0m\n\u001b[1;31mSyntaxError\u001b[0m\u001b[1;31m:\u001b[0m invalid syntax\n"
     ]
    }
   ],
   "source": [
    "jupyter-nbextension enable nglview --py --sys-prefix"
   ]
  },
  {
   "cell_type": "code",
   "execution_count": 25,
   "metadata": {},
   "outputs": [],
   "source": [
    "import nglview as nv"
   ]
  },
  {
   "cell_type": "code",
   "execution_count": 26,
   "metadata": {},
   "outputs": [
    {
     "ename": "ValueError",
     "evalue": "I/O operation on closed file",
     "output_type": "error",
     "traceback": [
      "\u001b[1;31m---------------------------------------------------------------------------\u001b[0m",
      "\u001b[1;31mValueError\u001b[0m                                Traceback (most recent call last)",
      "\u001b[1;32m~\\AppData\\Local\\Temp\\ipykernel_6732\\1699547681.py\u001b[0m in \u001b[0;36m<module>\u001b[1;34m\u001b[0m\n\u001b[1;32m----> 1\u001b[1;33m \u001b[0mview\u001b[0m \u001b[1;33m=\u001b[0m \u001b[0mnv\u001b[0m\u001b[1;33m.\u001b[0m\u001b[0mshow_biopython\u001b[0m\u001b[1;33m(\u001b[0m\u001b[0mstructure\u001b[0m\u001b[1;33m)\u001b[0m\u001b[1;33m\u001b[0m\u001b[1;33m\u001b[0m\u001b[0m\n\u001b[0m\u001b[0;32m      2\u001b[0m \u001b[0mview\u001b[0m\u001b[1;33m.\u001b[0m\u001b[0mclear_representations\u001b[0m\u001b[1;33m(\u001b[0m\u001b[1;33m)\u001b[0m\u001b[1;33m\u001b[0m\u001b[1;33m\u001b[0m\u001b[0m\n\u001b[0;32m      3\u001b[0m \u001b[1;31m#view as ball and stick (atom and bond)\u001b[0m\u001b[1;33m\u001b[0m\u001b[1;33m\u001b[0m\u001b[0m\n\u001b[0;32m      4\u001b[0m \u001b[0mview\u001b[0m\u001b[1;33m.\u001b[0m\u001b[0madd_ball_and_stick\u001b[0m\u001b[1;33m(\u001b[0m\u001b[1;33m)\u001b[0m\u001b[1;33m\u001b[0m\u001b[1;33m\u001b[0m\u001b[0m\n",
      "\u001b[1;32m~\\scoop\\apps\\anaconda3\\current\\lib\\site-packages\\nglview\\show.py\u001b[0m in \u001b[0;36mshow_biopython\u001b[1;34m(entity, **kwargs)\u001b[0m\n\u001b[0;32m    347\u001b[0m     '''\n\u001b[0;32m    348\u001b[0m     \u001b[0mentity\u001b[0m \u001b[1;33m=\u001b[0m \u001b[0mBiopythonStructure\u001b[0m\u001b[1;33m(\u001b[0m\u001b[0mentity\u001b[0m\u001b[1;33m)\u001b[0m\u001b[1;33m\u001b[0m\u001b[1;33m\u001b[0m\u001b[0m\n\u001b[1;32m--> 349\u001b[1;33m     \u001b[1;32mreturn\u001b[0m \u001b[0mNGLWidget\u001b[0m\u001b[1;33m(\u001b[0m\u001b[0mentity\u001b[0m\u001b[1;33m,\u001b[0m \u001b[1;33m**\u001b[0m\u001b[0mkwargs\u001b[0m\u001b[1;33m)\u001b[0m\u001b[1;33m\u001b[0m\u001b[1;33m\u001b[0m\u001b[0m\n\u001b[0m\u001b[0;32m    350\u001b[0m \u001b[1;33m\u001b[0m\u001b[0m\n\u001b[0;32m    351\u001b[0m \u001b[1;33m\u001b[0m\u001b[0m\n",
      "\u001b[1;32m~\\scoop\\apps\\anaconda3\\current\\lib\\site-packages\\nglview\\widget.py\u001b[0m in \u001b[0;36m__init__\u001b[1;34m(self, structure, representations, parameters, **kwargs)\u001b[0m\n\u001b[0;32m    190\u001b[0m         \u001b[1;32melse\u001b[0m\u001b[1;33m:\u001b[0m\u001b[1;33m\u001b[0m\u001b[1;33m\u001b[0m\u001b[0m\n\u001b[0;32m    191\u001b[0m             \u001b[1;32mif\u001b[0m \u001b[0mstructure\u001b[0m \u001b[1;32mis\u001b[0m \u001b[1;32mnot\u001b[0m \u001b[1;32mNone\u001b[0m\u001b[1;33m:\u001b[0m\u001b[1;33m\u001b[0m\u001b[1;33m\u001b[0m\u001b[0m\n\u001b[1;32m--> 192\u001b[1;33m                 \u001b[0mself\u001b[0m\u001b[1;33m.\u001b[0m\u001b[0madd_structure\u001b[0m\u001b[1;33m(\u001b[0m\u001b[0mstructure\u001b[0m\u001b[1;33m,\u001b[0m \u001b[1;33m**\u001b[0m\u001b[0mkwargs\u001b[0m\u001b[1;33m)\u001b[0m\u001b[1;33m\u001b[0m\u001b[1;33m\u001b[0m\u001b[0m\n\u001b[0m\u001b[0;32m    193\u001b[0m \u001b[1;33m\u001b[0m\u001b[0m\n\u001b[0;32m    194\u001b[0m         \u001b[1;32mif\u001b[0m \u001b[0mrepresentations\u001b[0m\u001b[1;33m:\u001b[0m\u001b[1;33m\u001b[0m\u001b[1;33m\u001b[0m\u001b[0m\n",
      "\u001b[1;32m~\\scoop\\apps\\anaconda3\\current\\lib\\site-packages\\nglview\\widget.py\u001b[0m in \u001b[0;36madd_structure\u001b[1;34m(self, structure, **kwargs)\u001b[0m\n\u001b[0;32m   1071\u001b[0m             raise ValueError(\n\u001b[0;32m   1072\u001b[0m                 '{} is not an instance of Structure'.format(structure))\n\u001b[1;32m-> 1073\u001b[1;33m         \u001b[0mself\u001b[0m\u001b[1;33m.\u001b[0m\u001b[0m_load_data\u001b[0m\u001b[1;33m(\u001b[0m\u001b[0mstructure\u001b[0m\u001b[1;33m,\u001b[0m \u001b[1;33m**\u001b[0m\u001b[0mkwargs\u001b[0m\u001b[1;33m)\u001b[0m\u001b[1;33m\u001b[0m\u001b[1;33m\u001b[0m\u001b[0m\n\u001b[0m\u001b[0;32m   1074\u001b[0m         \u001b[0mself\u001b[0m\u001b[1;33m.\u001b[0m\u001b[0m_ngl_component_ids\u001b[0m\u001b[1;33m.\u001b[0m\u001b[0mappend\u001b[0m\u001b[1;33m(\u001b[0m\u001b[0mstructure\u001b[0m\u001b[1;33m.\u001b[0m\u001b[0mid\u001b[0m\u001b[1;33m)\u001b[0m\u001b[1;33m\u001b[0m\u001b[1;33m\u001b[0m\u001b[0m\n\u001b[0;32m   1075\u001b[0m         \u001b[1;32mif\u001b[0m \u001b[0mself\u001b[0m\u001b[1;33m.\u001b[0m\u001b[0mn_components\u001b[0m \u001b[1;33m>\u001b[0m \u001b[1;36m1\u001b[0m\u001b[1;33m:\u001b[0m\u001b[1;33m\u001b[0m\u001b[1;33m\u001b[0m\u001b[0m\n",
      "\u001b[1;32m~\\scoop\\apps\\anaconda3\\current\\lib\\site-packages\\nglview\\widget.py\u001b[0m in \u001b[0;36m_load_data\u001b[1;34m(self, obj, **kwargs)\u001b[0m\n\u001b[0;32m   1178\u001b[0m         \u001b[1;32mif\u001b[0m \u001b[1;32mnot\u001b[0m \u001b[0mis_url\u001b[0m\u001b[1;33m:\u001b[0m\u001b[1;33m\u001b[0m\u001b[1;33m\u001b[0m\u001b[0m\n\u001b[0;32m   1179\u001b[0m             \u001b[1;32mif\u001b[0m \u001b[0mhasattr\u001b[0m\u001b[1;33m(\u001b[0m\u001b[0mobj\u001b[0m\u001b[1;33m,\u001b[0m \u001b[1;34m'get_structure_string'\u001b[0m\u001b[1;33m)\u001b[0m\u001b[1;33m:\u001b[0m\u001b[1;33m\u001b[0m\u001b[1;33m\u001b[0m\u001b[0m\n\u001b[1;32m-> 1180\u001b[1;33m                 \u001b[0mblob\u001b[0m \u001b[1;33m=\u001b[0m \u001b[0mobj\u001b[0m\u001b[1;33m.\u001b[0m\u001b[0mget_structure_string\u001b[0m\u001b[1;33m(\u001b[0m\u001b[1;33m)\u001b[0m\u001b[1;33m\u001b[0m\u001b[1;33m\u001b[0m\u001b[0m\n\u001b[0m\u001b[0;32m   1181\u001b[0m                 \u001b[0mkwargs2\u001b[0m\u001b[1;33m[\u001b[0m\u001b[1;34m'ext'\u001b[0m\u001b[1;33m]\u001b[0m \u001b[1;33m=\u001b[0m \u001b[0mobj\u001b[0m\u001b[1;33m.\u001b[0m\u001b[0mext\u001b[0m\u001b[1;33m\u001b[0m\u001b[1;33m\u001b[0m\u001b[0m\n\u001b[0;32m   1182\u001b[0m                 \u001b[0mpassing_buffer\u001b[0m \u001b[1;33m=\u001b[0m \u001b[1;32mTrue\u001b[0m\u001b[1;33m\u001b[0m\u001b[1;33m\u001b[0m\u001b[0m\n",
      "\u001b[1;32m~\\scoop\\apps\\anaconda3\\current\\lib\\site-packages\\nglview\\adaptor.py\u001b[0m in \u001b[0;36mget_structure_string\u001b[1;34m(self)\u001b[0m\n\u001b[0;32m    142\u001b[0m         \u001b[0mio_str\u001b[0m \u001b[1;33m=\u001b[0m \u001b[0mStringIO\u001b[0m\u001b[1;33m(\u001b[0m\u001b[1;33m)\u001b[0m\u001b[1;33m\u001b[0m\u001b[1;33m\u001b[0m\u001b[0m\n\u001b[0;32m    143\u001b[0m         \u001b[0mio_pdb\u001b[0m\u001b[1;33m.\u001b[0m\u001b[0msave\u001b[0m\u001b[1;33m(\u001b[0m\u001b[0mio_str\u001b[0m\u001b[1;33m)\u001b[0m\u001b[1;33m\u001b[0m\u001b[1;33m\u001b[0m\u001b[0m\n\u001b[1;32m--> 144\u001b[1;33m         \u001b[1;32mreturn\u001b[0m \u001b[0mio_str\u001b[0m\u001b[1;33m.\u001b[0m\u001b[0mgetvalue\u001b[0m\u001b[1;33m(\u001b[0m\u001b[1;33m)\u001b[0m\u001b[1;33m\u001b[0m\u001b[1;33m\u001b[0m\u001b[0m\n\u001b[0m\u001b[0;32m    145\u001b[0m \u001b[1;33m\u001b[0m\u001b[0m\n\u001b[0;32m    146\u001b[0m \u001b[1;33m\u001b[0m\u001b[0m\n",
      "\u001b[1;31mValueError\u001b[0m: I/O operation on closed file"
     ]
    }
   ],
   "source": [
    "view = nv.show_biopython(structure)\n",
    "view.clear_representations()\n",
    "#view as ball and stick (atom and bond)\n",
    "view.add_ball_and_stick()"
   ]
  },
  {
   "cell_type": "code",
   "execution_count": null,
   "metadata": {},
   "outputs": [],
   "source": []
  }
 ],
 "metadata": {
  "kernelspec": {
   "display_name": "Python 3 (ipykernel)",
   "language": "python",
   "name": "python3"
  },
  "language_info": {
   "codemirror_mode": {
    "name": "ipython",
    "version": 3
   },
   "file_extension": ".py",
   "mimetype": "text/x-python",
   "name": "python",
   "nbconvert_exporter": "python",
   "pygments_lexer": "ipython3",
   "version": "3.9.13"
  },
  "vscode": {
   "interpreter": {
    "hash": "c19b12b24f8e529290d1806fc2d59d722bfd46c377bb4e149616c499faa77c02"
   }
  }
 },
 "nbformat": 4,
 "nbformat_minor": 2
}
